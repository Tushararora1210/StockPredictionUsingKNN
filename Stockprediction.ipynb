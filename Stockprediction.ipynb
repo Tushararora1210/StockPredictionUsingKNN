{
  "nbformat": 4,
  "nbformat_minor": 0,
  "metadata": {
    "colab": {
      "name": "Untitled2.ipynb",
      "provenance": [],
      "collapsed_sections": [],
      "include_colab_link": true
    },
    "kernelspec": {
      "name": "python3",
      "display_name": "Python 3"
    }
  },
  "cells": [
    {
      "cell_type": "markdown",
      "metadata": {
        "id": "view-in-github",
        "colab_type": "text"
      },
      "source": [
        "<a href=\"https://colab.research.google.com/github/Tushararora1210/StockPredictionUsingKNN/blob/master/Stockprediction.ipynb\" target=\"_parent\"><img src=\"https://colab.research.google.com/assets/colab-badge.svg\" alt=\"Open In Colab\"/></a>"
      ]
    },
    {
      "cell_type": "code",
      "metadata": {
        "id": "AumyJkHUk8_G",
        "colab_type": "code",
        "outputId": "8165c621-660c-4a1b-8dde-c3db0c3ae933",
        "colab": {
          "base_uri": "https://localhost:8080/",
          "height": 354
        }
      },
      "source": [
        "pip install quandl"
      ],
      "execution_count": 0,
      "outputs": [
        {
          "output_type": "stream",
          "text": [
            "Requirement already satisfied: quandl in /usr/local/lib/python3.6/dist-packages (3.4.8)\n",
            "Requirement already satisfied: inflection>=0.3.1 in /usr/local/lib/python3.6/dist-packages (from quandl) (0.3.1)\n",
            "Requirement already satisfied: python-dateutil in /usr/local/lib/python3.6/dist-packages (from quandl) (2.6.1)\n",
            "Requirement already satisfied: numpy>=1.8 in /usr/local/lib/python3.6/dist-packages (from quandl) (1.17.3)\n",
            "Requirement already satisfied: six in /usr/local/lib/python3.6/dist-packages (from quandl) (1.12.0)\n",
            "Requirement already satisfied: pyOpenSSL in /usr/local/lib/python3.6/dist-packages (from quandl) (19.0.0)\n",
            "Requirement already satisfied: more-itertools<=5.0.0 in /usr/local/lib/python3.6/dist-packages (from quandl) (5.0.0)\n",
            "Requirement already satisfied: pyasn1 in /usr/local/lib/python3.6/dist-packages (from quandl) (0.4.7)\n",
            "Requirement already satisfied: pandas>=0.14 in /usr/local/lib/python3.6/dist-packages (from quandl) (0.25.3)\n",
            "Requirement already satisfied: ndg-httpsclient in /usr/local/lib/python3.6/dist-packages (from quandl) (0.5.1)\n",
            "Requirement already satisfied: requests>=2.7.0 in /usr/local/lib/python3.6/dist-packages (from quandl) (2.21.0)\n",
            "Requirement already satisfied: cryptography>=2.3 in /usr/local/lib/python3.6/dist-packages (from pyOpenSSL->quandl) (2.8)\n",
            "Requirement already satisfied: pytz>=2017.2 in /usr/local/lib/python3.6/dist-packages (from pandas>=0.14->quandl) (2018.9)\n",
            "Requirement already satisfied: idna<2.9,>=2.5 in /usr/local/lib/python3.6/dist-packages (from requests>=2.7.0->quandl) (2.8)\n",
            "Requirement already satisfied: urllib3<1.25,>=1.21.1 in /usr/local/lib/python3.6/dist-packages (from requests>=2.7.0->quandl) (1.24.3)\n",
            "Requirement already satisfied: chardet<3.1.0,>=3.0.2 in /usr/local/lib/python3.6/dist-packages (from requests>=2.7.0->quandl) (3.0.4)\n",
            "Requirement already satisfied: certifi>=2017.4.17 in /usr/local/lib/python3.6/dist-packages (from requests>=2.7.0->quandl) (2019.9.11)\n",
            "Requirement already satisfied: cffi!=1.11.3,>=1.8 in /usr/local/lib/python3.6/dist-packages (from cryptography>=2.3->pyOpenSSL->quandl) (1.13.1)\n",
            "Requirement already satisfied: pycparser in /usr/local/lib/python3.6/dist-packages (from cffi!=1.11.3,>=1.8->cryptography>=2.3->pyOpenSSL->quandl) (2.19)\n"
          ],
          "name": "stdout"
        }
      ]
    },
    {
      "cell_type": "code",
      "metadata": {
        "id": "vF8tRkTek9CH",
        "colab_type": "code",
        "colab": {}
      },
      "source": [
        "\n",
        "import quandl\n",
        "import numpy as np\n",
        "import pandas as pd\n",
        "import matplotlib.pyplot as plt\n",
        "import calendar\n",
        "import datetime\n",
        "from sklearn import neighbors\n",
        "from sklearn.model_selection import GridSearchCV\n",
        "from sklearn.preprocessing import MinMaxScaler\n"
      ],
      "execution_count": 0,
      "outputs": []
    },
    {
      "cell_type": "code",
      "metadata": {
        "id": "hbTt0cp3lFbb",
        "colab_type": "code",
        "colab": {}
      },
      "source": [
        "def dayofdate(y,m,d):\n",
        "  day=calendar.weekday(y,m,d)\n",
        "  return day\n"
      ],
      "execution_count": 0,
      "outputs": []
    },
    {
      "cell_type": "code",
      "metadata": {
        "id": "RQh985l0lFaJ",
        "colab_type": "code",
        "outputId": "ee81830d-ce3a-4af5-cb4f-c42a9150162d",
        "colab": {
          "base_uri": "https://localhost:8080/",
          "height": 283
        }
      },
      "source": [
        "quandl.ApiConfig.api_key = \"r3MzRrZM4NGzo8FTZ_6M\"\n",
        "df=quandl.get(\"WIKI/FB\") \n",
        "#df=quandl.get(\"WIKI/AAPL\")\n",
        "#df=quandl.get(\"WIKI/MSFT\")\n",
        "\n",
        "print(df)"
      ],
      "execution_count": 0,
      "outputs": [
        {
          "output_type": "stream",
          "text": [
            "              Open    High     Low  ...  Adj. Low  Adj. Close  Adj. Volume\n",
            "Date                                ...                                   \n",
            "2012-05-18   42.05   45.00   38.00  ...     38.00     38.2318  573576400.0\n",
            "2012-05-21   36.53   36.66   33.00  ...     33.00     34.0300  168192700.0\n",
            "2012-05-22   32.61   33.59   30.94  ...     30.94     31.0000  101786600.0\n",
            "2012-05-23   31.37   32.50   31.36  ...     31.36     32.0000   73600000.0\n",
            "2012-05-24   32.95   33.21   31.77  ...     31.77     33.0300   50237200.0\n",
            "...            ...     ...     ...  ...       ...         ...          ...\n",
            "2018-03-21  164.80  173.40  163.30  ...    163.30    169.3900  105350867.0\n",
            "2018-03-22  166.13  170.27  163.72  ...    163.72    164.8900   73389988.0\n",
            "2018-03-23  165.44  167.10  159.02  ...    159.02    159.3900   52306891.0\n",
            "2018-03-26  160.82  161.10  149.02  ...    149.02    160.0600  125438294.0\n",
            "2018-03-27  156.31  162.85  150.75  ...    150.75    152.1900   76787884.0\n",
            "\n",
            "[1472 rows x 12 columns]\n"
          ],
          "name": "stdout"
        }
      ]
    },
    {
      "cell_type": "code",
      "metadata": {
        "id": "79zlTDmClSA2",
        "colab_type": "code",
        "outputId": "393a3de9-ab7f-4a3f-ff5c-0794060cbcf5",
        "colab": {
          "base_uri": "https://localhost:8080/",
          "height": 283
        }
      },
      "source": [
        "a=[]\n",
        "for i in range(df.shape[0]):\n",
        "  a.append(i)\n",
        "df['index']=a\n",
        "day=[]\n",
        "year=[]\n",
        "month=[]\n",
        "date=[]\n",
        "week=[]\n",
        "ismonthend=[]\n",
        "ismonthstart=[]\n",
        "isyearstart=[]\n",
        "isquarterstart=[]\n",
        "isyearend=[]\n",
        "isquarterend=[]\n",
        "for i in df.index:\n",
        "  i=str(i)\n",
        "  i=i[:-9]\n",
        "  y,m,d=i.split('-')\n",
        "  y=int(y)\n",
        "  m=int(m)\n",
        "  d=int(d)\n",
        "  if(m>9):\n",
        "    isyearend.append(1)\n",
        "  else:\n",
        "    isyearend.append(0)\n",
        "  if(m<4):\n",
        "    isyearstart.append(1)\n",
        "  else:\n",
        "    isyearstart.append(0)\n",
        "  if((m%3)==0):\n",
        "    isquarterend.append(1)\n",
        "    isquarterstart.append(0)\n",
        "  elif((m%3)==1):\n",
        "    isquarterstart.append(1)\n",
        "    isquarterend.append(0)\n",
        "  else:\n",
        "    isquarterend.append(0)\n",
        "    isquarterstart.append(0)\n",
        "  if(d>24):\n",
        "    ismonthend.append(1)\n",
        "    ismonthstart.append(0)\n",
        "  elif(d<=7):\n",
        "    ismonthstart.append(1)\n",
        "    ismonthend.append(0)\n",
        "  else:\n",
        "    ismonthend.append(0)\n",
        "    ismonthstart.append(0)\n",
        "  year.append(y)\n",
        "  month.append(m)\n",
        "  date.append(d)\n",
        "  day.append(dayofdate(y,m,d))\n",
        "  week.append(datetime.date(y,m,d).strftime(\"%V\"))\n",
        "\n",
        "\n",
        "df['day of week']=day\n",
        "df['year']=year\n",
        "df['month of year']=month\n",
        "df['day of month']=date\n",
        "df['week of year']=week\n",
        "df['is_month_end']=ismonthend\n",
        "df['is_month_start']=ismonthstart\n",
        "df['is_quarter_end']=isquarterend\n",
        "df['is_quarter_start']=isquarterstart\n",
        "df['is_year_end']=isyearend\n",
        "df['is_year_start']=isyearstart\n",
        "\n",
        "print(df)"
      ],
      "execution_count": 0,
      "outputs": [
        {
          "output_type": "stream",
          "text": [
            "              Open    High  ...  is_year_end  is_year_start\n",
            "Date                        ...                            \n",
            "2012-05-18   42.05   45.00  ...            0              0\n",
            "2012-05-21   36.53   36.66  ...            0              0\n",
            "2012-05-22   32.61   33.59  ...            0              0\n",
            "2012-05-23   31.37   32.50  ...            0              0\n",
            "2012-05-24   32.95   33.21  ...            0              0\n",
            "...            ...     ...  ...          ...            ...\n",
            "2018-03-21  164.80  173.40  ...            0              1\n",
            "2018-03-22  166.13  170.27  ...            0              1\n",
            "2018-03-23  165.44  167.10  ...            0              1\n",
            "2018-03-26  160.82  161.10  ...            0              1\n",
            "2018-03-27  156.31  162.85  ...            0              1\n",
            "\n",
            "[1472 rows x 24 columns]\n"
          ],
          "name": "stdout"
        }
      ]
    },
    {
      "cell_type": "code",
      "metadata": {
        "id": "BYv0vUANlXh5",
        "colab_type": "code",
        "outputId": "c7b579c9-27a1-426c-af99-2c0129645dc1",
        "colab": {
          "base_uri": "https://localhost:8080/",
          "height": 90
        }
      },
      "source": [
        "train=df[:int(df.shape[0]*0.8)]\n",
        "valid=df[int(df.shape[0]*0.8):]\n",
        "xtrain=train[['index','day of week','day of month','month of year','year','week of year','is_month_end','is_month_start','is_quarter_end','is_quarter_start','is_year_start','is_year_end']]\n",
        "ytrain=train[['Adj. Close']]\n",
        "xvalid=valid[['index','day of week','day of month','month of year','year','week of year','is_month_end','is_month_start','is_quarter_end','is_quarter_start','is_year_start','is_year_end']]\n",
        "yvalid=valid[['Adj. Close']]\n",
        "\n",
        "scaler = MinMaxScaler(feature_range=(0, 1))\n",
        "x_train_scaled = scaler.fit_transform(xtrain)\n",
        "xtrain = pd.DataFrame(x_train_scaled)\n",
        "x_valid_scaled = scaler.fit_transform(xvalid)\n",
        "xvalid = pd.DataFrame(x_valid_scaled)\n",
        "#using gridsearch to find the best parameter\n",
        "params = {'n_neighbors':[1,2,3,4,5,6,7,8,9,10,11,12,13,14,15,16,17]}\n",
        "knn = neighbors.KNeighborsRegressor()\n",
        "model = GridSearchCV(knn, params, cv=5)\n",
        "\n",
        "#fit the model and make predictions\n",
        "model.fit(xtrain,ytrain)\n",
        "\n",
        "\n",
        "preds=model.predict(xvalid)\n",
        "rms=np.sqrt(np.mean(np.power((np.array(yvalid)-np.array(preds)),2)))\n",
        "print(rms)"
      ],
      "execution_count": 0,
      "outputs": [
        {
          "output_type": "stream",
          "text": [
            "110.9064768139847\n"
          ],
          "name": "stdout"
        },
        {
          "output_type": "stream",
          "text": [
            "/usr/local/lib/python3.6/dist-packages/sklearn/model_selection/_search.py:814: DeprecationWarning: The default of the `iid` parameter will change from True to False in version 0.22 and will be removed in 0.24. This will change numeric results when test-set sizes are unequal.\n",
            "  DeprecationWarning)\n"
          ],
          "name": "stderr"
        }
      ]
    },
    {
      "cell_type": "code",
      "metadata": {
        "id": "eC4Kd7bKrTwo",
        "colab_type": "code",
        "outputId": "762ceb04-7e41-4cb1-a7d2-4f4ede50ef62",
        "colab": {
          "base_uri": "https://localhost:8080/",
          "height": 994
        }
      },
      "source": [
        "#plot\n",
        "valid['Predictions'] = 0\n",
        "valid['Predictions'] = preds\n",
        "plt.figure(figsize=(16,8))\n",
        "plt.plot(train['Adj. Close'])\n",
        "print(valid[['Predictions','Adj. Close']])\n",
        "plt.plot(valid[['Adj. Close', 'Predictions']])\n",
        "plt.xlabel('Time-->')\n",
        "plt.ylabel('Price-->')\n",
        "\n"
      ],
      "execution_count": 0,
      "outputs": [
        {
          "output_type": "stream",
          "text": [
            "            Predictions  Adj. Close\n",
            "Date                               \n",
            "2017-01-24      30.7745      129.37\n",
            "2017-01-25      31.0150      131.48\n",
            "2017-01-26      31.2605      132.78\n",
            "2017-01-27      31.2605      132.18\n",
            "2017-01-30      31.6295      130.98\n",
            "...                 ...         ...\n",
            "2018-03-21     112.3600      169.39\n",
            "2018-03-22     112.0350      164.89\n",
            "2018-03-23     112.2500      159.39\n",
            "2018-03-26     114.9150      160.06\n",
            "2018-03-27     114.9150      152.19\n",
            "\n",
            "[295 rows x 2 columns]\n"
          ],
          "name": "stdout"
        },
        {
          "output_type": "stream",
          "text": [
            "/usr/local/lib/python3.6/dist-packages/ipykernel_launcher.py:1: SettingWithCopyWarning: \n",
            "A value is trying to be set on a copy of a slice from a DataFrame.\n",
            "Try using .loc[row_indexer,col_indexer] = value instead\n",
            "\n",
            "See the caveats in the documentation: http://pandas.pydata.org/pandas-docs/stable/user_guide/indexing.html#returning-a-view-versus-a-copy\n",
            "  \"\"\"Entry point for launching an IPython kernel.\n",
            "/usr/local/lib/python3.6/dist-packages/ipykernel_launcher.py:2: SettingWithCopyWarning: \n",
            "A value is trying to be set on a copy of a slice from a DataFrame.\n",
            "Try using .loc[row_indexer,col_indexer] = value instead\n",
            "\n",
            "See the caveats in the documentation: http://pandas.pydata.org/pandas-docs/stable/user_guide/indexing.html#returning-a-view-versus-a-copy\n",
            "  \n"
          ],
          "name": "stderr"
        },
        {
          "output_type": "execute_result",
          "data": {
            "text/plain": [
              "Text(0, 0.5, 'Price-->')"
            ]
          },
          "metadata": {
            "tags": []
          },
          "execution_count": 165
        },
        {
          "output_type": "display_data",
          "data": {
            "image/png": "[encoded data removed]",
            "text/plain": [
              "<Figure size 1152x576 with 1 Axes>"
            ]
          },
          "metadata": {
            "tags": []
          }
        }
      ]
    },
    {
      "cell_type": "code",
      "metadata": {
        "id": "XjLLdgd1SOAe",
        "colab_type": "code",
        "outputId": "6453558f-536f-4644-ab4e-aa56d8b2a308",
        "colab": {
          "base_uri": "https://localhost:8080/",
          "height": 621
        }
      },
      "source": [
        "start = datetime.datetime.strptime(\"2018-03-28\", \"%Y-%m-%d\")\n",
        "end = datetime.datetime.strptime(\"2018-04-28\", \"%Y-%m-%d\")\n",
        "date_array = \\\n",
        "    (start + datetime.timedelta(days=x) for x in range(0, (end-start).days))\n",
        "x={'Date':[],'day of week':[],'year':[],'month of year':[],'day of month':[],'week of year':[],'is_month_end':[],'is_month_start':[],'is_year_end':[],'is_year_start':[],'is_quarter_end':[],'is_quarter_start':[]}\n",
        "for date_object in date_array:\n",
        "    x['Date'].append(date_object.strftime(\"%Y-%m-%d\"))\n",
        "\n",
        "\n",
        "\n",
        "day=[]\n",
        "year=[]\n",
        "month=[]\n",
        "date=[]\n",
        "week=[]\n",
        "ismonthend=[]\n",
        "ismonthstart=[]\n",
        "isyearstart=[]\n",
        "isquarterstart=[]\n",
        "isyearend=[]\n",
        "isquarterend=[]\n",
        "for i in x['Date']:\n",
        "  i=str(i)\n",
        "  y,m,d=i.split('-')\n",
        "  y=int(y)\n",
        "  m=int(m)\n",
        "  d=int(d)\n",
        "  if(m>9):\n",
        "    isyearend.append(1)\n",
        "  else:\n",
        "    isyearend.append(0)\n",
        "  if(m<4):\n",
        "    isyearstart.append(1)\n",
        "  else:\n",
        "    isyearstart.append(0)\n",
        "  if((m%3)==0):\n",
        "    isquarterend.append(1)\n",
        "    isquarterstart.append(0)\n",
        "  elif((m%3)==1):\n",
        "    isquarterstart.append(1)\n",
        "    isquarterend.append(0)\n",
        "  else:\n",
        "    isquarterend.append(0)\n",
        "    isquarterstart.append(0)\n",
        "  if(d>24):\n",
        "    ismonthend.append(1)\n",
        "    ismonthstart.append(0)\n",
        "  elif(d<=7):\n",
        "    ismonthstart.append(1)\n",
        "    ismonthend.append(0)\n",
        "  else:\n",
        "    ismonthend.append(0)\n",
        "    ismonthstart.append(0)\n",
        "  year.append(y)\n",
        "  month.append(m)\n",
        "  date.append(d)\n",
        "  day.append(dayofdate(y,m,d))\n",
        "  week.append(datetime.date(y,m,d).strftime(\"%V\"))\n",
        "x['year']=year\n",
        "x['day of week']=day\n",
        "x['month of year']=month\n",
        "x['day of month']=date\n",
        "x['week of year']=week\n",
        "x['is_month_end']=ismonthend\n",
        "x['is_month_start']=ismonthstart\n",
        "x['is_quarter_end']=isquarterend\n",
        "x['is_quarter_start']=isquarterstart\n",
        "x['is_year_end']=isyearend\n",
        "x['is_year_start']=isyearstart\n",
        "\n",
        "x=pd.DataFrame(x,index=x['Date'])\n",
        "x=x.drop('Date',axis=1)\n",
        "a=[]\n",
        "for i in range(x.shape[0]):\n",
        "  a.append(i)\n",
        "x['index']=a\n",
        "\n",
        "\n",
        "x_scaled = scaler.fit_transform(x)\n",
        "x_scaled = pd.DataFrame(x_scaled)\n",
        "y=model.predict(x_scaled)\n",
        "x['Predicted Price']=y\n",
        "print(x)"
      ],
      "execution_count": 0,
      "outputs": [
        {
          "output_type": "stream",
          "text": [
            "            day of week  year  ...  index  Predicted Price\n",
            "2018-03-28            2  2018  ...      0           31.425\n",
            "2018-03-29            3  2018  ...      1           60.965\n",
            "2018-03-30            4  2018  ...      2           60.965\n",
            "2018-03-31            5  2018  ...      3           77.280\n",
            "2018-04-01            6  2018  ...      4           88.385\n",
            "2018-04-02            0  2018  ...      5           27.330\n",
            "2018-04-03            1  2018  ...      6           27.330\n",
            "2018-04-04            2  2018  ...      7           27.330\n",
            "2018-04-05            3  2018  ...      8           48.560\n",
            "2018-04-06            4  2018  ...      9           48.560\n",
            "2018-04-07            5  2018  ...     10           88.385\n",
            "2018-04-08            6  2018  ...     11           78.645\n",
            "2018-04-09            0  2018  ...     12           49.855\n",
            "2018-04-10            1  2018  ...     13           74.810\n",
            "2018-04-11            2  2018  ...     14           74.810\n",
            "2018-04-12            3  2018  ...     15           74.810\n",
            "2018-04-13            4  2018  ...     16           78.645\n",
            "2018-04-14            5  2018  ...     17           93.000\n",
            "2018-04-15            6  2018  ...     18           93.000\n",
            "2018-04-16            0  2018  ...     19           74.810\n",
            "2018-04-17            1  2018  ...     20           74.810\n",
            "2018-04-18            2  2018  ...     21           74.810\n",
            "2018-04-19            3  2018  ...     22           78.645\n",
            "2018-04-20            4  2018  ...     23           93.000\n",
            "2018-04-21            5  2018  ...     24          106.310\n",
            "2018-04-22            6  2018  ...     25          106.310\n",
            "2018-04-23            0  2018  ...     26           74.810\n",
            "2018-04-24            1  2018  ...     27           78.645\n",
            "2018-04-25            2  2018  ...     28          106.345\n",
            "2018-04-26            3  2018  ...     29          106.345\n",
            "2018-04-27            4  2018  ...     30          114.360\n",
            "\n",
            "[31 rows x 13 columns]\n"
          ],
          "name": "stdout"
        }
      ]
    }
  ]
}